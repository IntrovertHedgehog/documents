{
 "cells": [
  {
   "cell_type": "markdown",
   "metadata": {},
   "source": [
    "# Week 2: Lasso Regression\n",
    "\n",
    "## Learning Outcomes\n",
    "\n",
    "+ Data cleaning\n",
    "+ Exploratory data analysis\n",
    "+ Feature preprocessing\n",
    "+ Lasso Regression vs. Linear Regression"
   ]
  },
  {
   "cell_type": "markdown",
   "metadata": {},
   "source": [
    "## 1. Importing the required libraries"
   ]
  },
  {
   "cell_type": "code",
   "execution_count": 254,
   "metadata": {},
   "outputs": [],
   "source": [
    "import warnings\n",
    "import pandas as pd\n",
    "import numpy as np\n",
    "import matplotlib.pyplot as plt\n",
    "from scipy import stats\n",
    "from sklearn.preprocessing import StandardScaler\n",
    "from pprint import pprint\n",
    "\n",
    "warnings.filterwarnings('ignore')\n",
    "%matplotlib inline"
   ]
  },
  {
   "cell_type": "markdown",
   "metadata": {},
   "source": [
    "## 2. Loading Dataset\n",
    "The housing dataset contains information about housing prices and factors affecting them.\n",
    "1. <span style=\"color: blue;\">Question:</span> Download the data <code>data.csv</code> from Canvas and read the CSV file using the Pandas library.   \n"
   ]
  },
  {
   "cell_type": "code",
   "execution_count": 4,
   "metadata": {},
   "outputs": [
    {
     "name": "stdout",
     "output_type": "stream",
     "text": [
      "     MSZoning  LotFrontage  LotArea Street Alley Utilities  OverallQual  \\\n",
      "0          RL         65.0     8450   Pave   NaN    AllPub            7   \n",
      "1          RL         80.0     9600   Pave   NaN    AllPub            6   \n",
      "2          RL         68.0    11250   Pave   NaN    AllPub            7   \n",
      "3          RL         60.0     9550   Pave   NaN    AllPub            7   \n",
      "4          RL         84.0    14260   Pave   NaN    AllPub            8   \n",
      "...       ...          ...      ...    ...   ...       ...          ...   \n",
      "1455       RL         62.0     7917   Pave   NaN    AllPub            6   \n",
      "1456       RL         85.0    13175   Pave   NaN    AllPub            6   \n",
      "1457       RL         66.0     9042   Pave   NaN    AllPub            7   \n",
      "1458       RL         68.0     9717   Pave   NaN    AllPub            5   \n",
      "1459       RL         75.0     9937   Pave   NaN    AllPub            5   \n",
      "\n",
      "      OverallCond  MasVnrArea ExterQual  ... GarageCars GarageArea GarageQual  \\\n",
      "0               5       196.0        Gd  ...          2        548         TA   \n",
      "1               8         0.0        TA  ...          2        460         TA   \n",
      "2               5       162.0        Gd  ...          2        608         TA   \n",
      "3               5         0.0        TA  ...          3        642         TA   \n",
      "4               5       350.0        Gd  ...          3        836         TA   \n",
      "...           ...         ...       ...  ...        ...        ...        ...   \n",
      "1455            5         0.0        TA  ...          2        460         TA   \n",
      "1456            6       119.0        TA  ...          2        500         TA   \n",
      "1457            9         0.0        Ex  ...          1        252         TA   \n",
      "1458            6         0.0        TA  ...          1        240         TA   \n",
      "1459            6         0.0        Gd  ...          1        276         TA   \n",
      "\n",
      "      WoodDeckSF OpenPorchSF ScreenPorch  PoolQC  Fence  MiscFeature  \\\n",
      "0              0          61           0     NaN    NaN          NaN   \n",
      "1            298           0           0     NaN    NaN          NaN   \n",
      "2              0          42           0     NaN    NaN          NaN   \n",
      "3              0          35           0     NaN    NaN          NaN   \n",
      "4            192          84           0     NaN    NaN          NaN   \n",
      "...          ...         ...         ...     ...    ...          ...   \n",
      "1455           0          40           0     NaN    NaN          NaN   \n",
      "1456         349           0           0     NaN  MnPrv          NaN   \n",
      "1457           0          60           0     NaN  GdPrv         Shed   \n",
      "1458         366           0           0     NaN    NaN          NaN   \n",
      "1459         736          68           0     NaN    NaN          NaN   \n",
      "\n",
      "      SalePrice  \n",
      "0        208500  \n",
      "1        181500  \n",
      "2        223500  \n",
      "3        140000  \n",
      "4        250000  \n",
      "...         ...  \n",
      "1455     175000  \n",
      "1456     210000  \n",
      "1457     266500  \n",
      "1458     142125  \n",
      "1459     147500  \n",
      "\n",
      "[1460 rows x 37 columns]\n"
     ]
    }
   ],
   "source": [
    "data = pd.read_csv(\"./data.csv\")\n",
    "pprint(data)"
   ]
  },
  {
   "cell_type": "markdown",
   "metadata": {},
   "source": [
    "2. Let's examine the shape of the loaded dataset to understand its dimensions.\n",
    "\n",
    "    <span style=\"color: blue;\">Question:</span> Display the shape of the <code>house_price</code> dataset.\n"
   ]
  },
  {
   "cell_type": "code",
   "execution_count": 6,
   "metadata": {},
   "outputs": [
    {
     "data": {
      "text/plain": [
       "(1460, 37)"
      ]
     },
     "execution_count": 6,
     "metadata": {},
     "output_type": "execute_result"
    }
   ],
   "source": [
    "data.shape"
   ]
  },
  {
   "cell_type": "markdown",
   "metadata": {},
   "source": [
    "3. Let's gather more information about the dataset, such as data types and non-null values.\n",
    "\n",
    "    <span style=\"color: blue;\">Question:</span> Display information about the <code>house_price</code> dataset using the <code>info()</code> function.\n",
    "\n"
   ]
  },
  {
   "cell_type": "code",
   "execution_count": 7,
   "metadata": {},
   "outputs": [
    {
     "name": "stdout",
     "output_type": "stream",
     "text": [
      "<class 'pandas.core.frame.DataFrame'>\n",
      "RangeIndex: 1460 entries, 0 to 1459\n",
      "Data columns (total 37 columns):\n",
      " #   Column        Non-Null Count  Dtype  \n",
      "---  ------        --------------  -----  \n",
      " 0   MSZoning      1460 non-null   object \n",
      " 1   LotFrontage   1201 non-null   float64\n",
      " 2   LotArea       1460 non-null   int64  \n",
      " 3   Street        1460 non-null   object \n",
      " 4   Alley         91 non-null     object \n",
      " 5   Utilities     1460 non-null   object \n",
      " 6   OverallQual   1460 non-null   int64  \n",
      " 7   OverallCond   1460 non-null   int64  \n",
      " 8   MasVnrArea    1452 non-null   float64\n",
      " 9   ExterQual     1460 non-null   object \n",
      " 10  ExterCond     1460 non-null   object \n",
      " 11  BsmtQual      1423 non-null   object \n",
      " 12  BsmtExposure  1422 non-null   object \n",
      " 13  TotalBsmtSF   1460 non-null   int64  \n",
      " 14  HeatingQC     1460 non-null   object \n",
      " 15  CentralAir    1460 non-null   object \n",
      " 16  1stFlrSF      1460 non-null   int64  \n",
      " 17  2ndFlrSF      1460 non-null   int64  \n",
      " 18  GrLivArea     1460 non-null   int64  \n",
      " 19  BsmtFullBath  1460 non-null   int64  \n",
      " 20  FullBath      1460 non-null   int64  \n",
      " 21  BedroomAbvGr  1460 non-null   int64  \n",
      " 22  KitchenAbvGr  1460 non-null   int64  \n",
      " 23  KitchenQual   1460 non-null   object \n",
      " 24  TotRmsAbvGrd  1460 non-null   int64  \n",
      " 25  Fireplaces    1460 non-null   int64  \n",
      " 26  FireplaceQu   770 non-null    object \n",
      " 27  GarageCars    1460 non-null   int64  \n",
      " 28  GarageArea    1460 non-null   int64  \n",
      " 29  GarageQual    1379 non-null   object \n",
      " 30  WoodDeckSF    1460 non-null   int64  \n",
      " 31  OpenPorchSF   1460 non-null   int64  \n",
      " 32  ScreenPorch   1460 non-null   int64  \n",
      " 33  PoolQC        7 non-null      object \n",
      " 34  Fence         281 non-null    object \n",
      " 35  MiscFeature   54 non-null     object \n",
      " 36  SalePrice     1460 non-null   int64  \n",
      "dtypes: float64(2), int64(19), object(16)\n",
      "memory usage: 422.2+ KB\n"
     ]
    }
   ],
   "source": [
    "data.info()"
   ]
  },
  {
   "cell_type": "markdown",
   "metadata": {},
   "source": [
    "4. Let's take a look at the initial records in the dataset to understand its structure.\n",
    "\n",
    "    <span style=\"color: blue;\">Question:</span> How can you display the first few records of the <code>house_price</code> dataset?\n",
    "\n"
   ]
  },
  {
   "cell_type": "code",
   "execution_count": 9,
   "metadata": {
    "scrolled": true
   },
   "outputs": [
    {
     "data": {
      "text/html": [
       "<div>\n",
       "<style scoped>\n",
       "    .dataframe tbody tr th:only-of-type {\n",
       "        vertical-align: middle;\n",
       "    }\n",
       "\n",
       "    .dataframe tbody tr th {\n",
       "        vertical-align: top;\n",
       "    }\n",
       "\n",
       "    .dataframe thead th {\n",
       "        text-align: right;\n",
       "    }\n",
       "</style>\n",
       "<table border=\"1\" class=\"dataframe\">\n",
       "  <thead>\n",
       "    <tr style=\"text-align: right;\">\n",
       "      <th></th>\n",
       "      <th>MSZoning</th>\n",
       "      <th>LotFrontage</th>\n",
       "      <th>LotArea</th>\n",
       "      <th>Street</th>\n",
       "      <th>Alley</th>\n",
       "      <th>Utilities</th>\n",
       "      <th>OverallQual</th>\n",
       "      <th>OverallCond</th>\n",
       "      <th>MasVnrArea</th>\n",
       "      <th>ExterQual</th>\n",
       "      <th>...</th>\n",
       "      <th>GarageCars</th>\n",
       "      <th>GarageArea</th>\n",
       "      <th>GarageQual</th>\n",
       "      <th>WoodDeckSF</th>\n",
       "      <th>OpenPorchSF</th>\n",
       "      <th>ScreenPorch</th>\n",
       "      <th>PoolQC</th>\n",
       "      <th>Fence</th>\n",
       "      <th>MiscFeature</th>\n",
       "      <th>SalePrice</th>\n",
       "    </tr>\n",
       "  </thead>\n",
       "  <tbody>\n",
       "    <tr>\n",
       "      <th>0</th>\n",
       "      <td>RL</td>\n",
       "      <td>65.0</td>\n",
       "      <td>8450</td>\n",
       "      <td>Pave</td>\n",
       "      <td>NaN</td>\n",
       "      <td>AllPub</td>\n",
       "      <td>7</td>\n",
       "      <td>5</td>\n",
       "      <td>196.0</td>\n",
       "      <td>Gd</td>\n",
       "      <td>...</td>\n",
       "      <td>2</td>\n",
       "      <td>548</td>\n",
       "      <td>TA</td>\n",
       "      <td>0</td>\n",
       "      <td>61</td>\n",
       "      <td>0</td>\n",
       "      <td>NaN</td>\n",
       "      <td>NaN</td>\n",
       "      <td>NaN</td>\n",
       "      <td>208500</td>\n",
       "    </tr>\n",
       "    <tr>\n",
       "      <th>1</th>\n",
       "      <td>RL</td>\n",
       "      <td>80.0</td>\n",
       "      <td>9600</td>\n",
       "      <td>Pave</td>\n",
       "      <td>NaN</td>\n",
       "      <td>AllPub</td>\n",
       "      <td>6</td>\n",
       "      <td>8</td>\n",
       "      <td>0.0</td>\n",
       "      <td>TA</td>\n",
       "      <td>...</td>\n",
       "      <td>2</td>\n",
       "      <td>460</td>\n",
       "      <td>TA</td>\n",
       "      <td>298</td>\n",
       "      <td>0</td>\n",
       "      <td>0</td>\n",
       "      <td>NaN</td>\n",
       "      <td>NaN</td>\n",
       "      <td>NaN</td>\n",
       "      <td>181500</td>\n",
       "    </tr>\n",
       "    <tr>\n",
       "      <th>2</th>\n",
       "      <td>RL</td>\n",
       "      <td>68.0</td>\n",
       "      <td>11250</td>\n",
       "      <td>Pave</td>\n",
       "      <td>NaN</td>\n",
       "      <td>AllPub</td>\n",
       "      <td>7</td>\n",
       "      <td>5</td>\n",
       "      <td>162.0</td>\n",
       "      <td>Gd</td>\n",
       "      <td>...</td>\n",
       "      <td>2</td>\n",
       "      <td>608</td>\n",
       "      <td>TA</td>\n",
       "      <td>0</td>\n",
       "      <td>42</td>\n",
       "      <td>0</td>\n",
       "      <td>NaN</td>\n",
       "      <td>NaN</td>\n",
       "      <td>NaN</td>\n",
       "      <td>223500</td>\n",
       "    </tr>\n",
       "    <tr>\n",
       "      <th>3</th>\n",
       "      <td>RL</td>\n",
       "      <td>60.0</td>\n",
       "      <td>9550</td>\n",
       "      <td>Pave</td>\n",
       "      <td>NaN</td>\n",
       "      <td>AllPub</td>\n",
       "      <td>7</td>\n",
       "      <td>5</td>\n",
       "      <td>0.0</td>\n",
       "      <td>TA</td>\n",
       "      <td>...</td>\n",
       "      <td>3</td>\n",
       "      <td>642</td>\n",
       "      <td>TA</td>\n",
       "      <td>0</td>\n",
       "      <td>35</td>\n",
       "      <td>0</td>\n",
       "      <td>NaN</td>\n",
       "      <td>NaN</td>\n",
       "      <td>NaN</td>\n",
       "      <td>140000</td>\n",
       "    </tr>\n",
       "    <tr>\n",
       "      <th>4</th>\n",
       "      <td>RL</td>\n",
       "      <td>84.0</td>\n",
       "      <td>14260</td>\n",
       "      <td>Pave</td>\n",
       "      <td>NaN</td>\n",
       "      <td>AllPub</td>\n",
       "      <td>8</td>\n",
       "      <td>5</td>\n",
       "      <td>350.0</td>\n",
       "      <td>Gd</td>\n",
       "      <td>...</td>\n",
       "      <td>3</td>\n",
       "      <td>836</td>\n",
       "      <td>TA</td>\n",
       "      <td>192</td>\n",
       "      <td>84</td>\n",
       "      <td>0</td>\n",
       "      <td>NaN</td>\n",
       "      <td>NaN</td>\n",
       "      <td>NaN</td>\n",
       "      <td>250000</td>\n",
       "    </tr>\n",
       "    <tr>\n",
       "      <th>5</th>\n",
       "      <td>RL</td>\n",
       "      <td>85.0</td>\n",
       "      <td>14115</td>\n",
       "      <td>Pave</td>\n",
       "      <td>NaN</td>\n",
       "      <td>AllPub</td>\n",
       "      <td>5</td>\n",
       "      <td>5</td>\n",
       "      <td>0.0</td>\n",
       "      <td>TA</td>\n",
       "      <td>...</td>\n",
       "      <td>2</td>\n",
       "      <td>480</td>\n",
       "      <td>TA</td>\n",
       "      <td>40</td>\n",
       "      <td>30</td>\n",
       "      <td>0</td>\n",
       "      <td>NaN</td>\n",
       "      <td>MnPrv</td>\n",
       "      <td>Shed</td>\n",
       "      <td>143000</td>\n",
       "    </tr>\n",
       "    <tr>\n",
       "      <th>6</th>\n",
       "      <td>RL</td>\n",
       "      <td>75.0</td>\n",
       "      <td>10084</td>\n",
       "      <td>Pave</td>\n",
       "      <td>NaN</td>\n",
       "      <td>AllPub</td>\n",
       "      <td>8</td>\n",
       "      <td>5</td>\n",
       "      <td>186.0</td>\n",
       "      <td>Gd</td>\n",
       "      <td>...</td>\n",
       "      <td>2</td>\n",
       "      <td>636</td>\n",
       "      <td>TA</td>\n",
       "      <td>255</td>\n",
       "      <td>57</td>\n",
       "      <td>0</td>\n",
       "      <td>NaN</td>\n",
       "      <td>NaN</td>\n",
       "      <td>NaN</td>\n",
       "      <td>307000</td>\n",
       "    </tr>\n",
       "    <tr>\n",
       "      <th>7</th>\n",
       "      <td>RL</td>\n",
       "      <td>NaN</td>\n",
       "      <td>10382</td>\n",
       "      <td>Pave</td>\n",
       "      <td>NaN</td>\n",
       "      <td>AllPub</td>\n",
       "      <td>7</td>\n",
       "      <td>6</td>\n",
       "      <td>240.0</td>\n",
       "      <td>TA</td>\n",
       "      <td>...</td>\n",
       "      <td>2</td>\n",
       "      <td>484</td>\n",
       "      <td>TA</td>\n",
       "      <td>235</td>\n",
       "      <td>204</td>\n",
       "      <td>0</td>\n",
       "      <td>NaN</td>\n",
       "      <td>NaN</td>\n",
       "      <td>Shed</td>\n",
       "      <td>200000</td>\n",
       "    </tr>\n",
       "    <tr>\n",
       "      <th>8</th>\n",
       "      <td>RM</td>\n",
       "      <td>51.0</td>\n",
       "      <td>6120</td>\n",
       "      <td>Pave</td>\n",
       "      <td>NaN</td>\n",
       "      <td>AllPub</td>\n",
       "      <td>7</td>\n",
       "      <td>5</td>\n",
       "      <td>0.0</td>\n",
       "      <td>TA</td>\n",
       "      <td>...</td>\n",
       "      <td>2</td>\n",
       "      <td>468</td>\n",
       "      <td>Fa</td>\n",
       "      <td>90</td>\n",
       "      <td>0</td>\n",
       "      <td>0</td>\n",
       "      <td>NaN</td>\n",
       "      <td>NaN</td>\n",
       "      <td>NaN</td>\n",
       "      <td>129900</td>\n",
       "    </tr>\n",
       "    <tr>\n",
       "      <th>9</th>\n",
       "      <td>RL</td>\n",
       "      <td>50.0</td>\n",
       "      <td>7420</td>\n",
       "      <td>Pave</td>\n",
       "      <td>NaN</td>\n",
       "      <td>AllPub</td>\n",
       "      <td>5</td>\n",
       "      <td>6</td>\n",
       "      <td>0.0</td>\n",
       "      <td>TA</td>\n",
       "      <td>...</td>\n",
       "      <td>1</td>\n",
       "      <td>205</td>\n",
       "      <td>Gd</td>\n",
       "      <td>0</td>\n",
       "      <td>4</td>\n",
       "      <td>0</td>\n",
       "      <td>NaN</td>\n",
       "      <td>NaN</td>\n",
       "      <td>NaN</td>\n",
       "      <td>118000</td>\n",
       "    </tr>\n",
       "  </tbody>\n",
       "</table>\n",
       "<p>10 rows × 37 columns</p>\n",
       "</div>"
      ],
      "text/plain": [
       "  MSZoning  LotFrontage  LotArea Street Alley Utilities  OverallQual  \\\n",
       "0       RL         65.0     8450   Pave   NaN    AllPub            7   \n",
       "1       RL         80.0     9600   Pave   NaN    AllPub            6   \n",
       "2       RL         68.0    11250   Pave   NaN    AllPub            7   \n",
       "3       RL         60.0     9550   Pave   NaN    AllPub            7   \n",
       "4       RL         84.0    14260   Pave   NaN    AllPub            8   \n",
       "5       RL         85.0    14115   Pave   NaN    AllPub            5   \n",
       "6       RL         75.0    10084   Pave   NaN    AllPub            8   \n",
       "7       RL          NaN    10382   Pave   NaN    AllPub            7   \n",
       "8       RM         51.0     6120   Pave   NaN    AllPub            7   \n",
       "9       RL         50.0     7420   Pave   NaN    AllPub            5   \n",
       "\n",
       "   OverallCond  MasVnrArea ExterQual  ... GarageCars GarageArea GarageQual  \\\n",
       "0            5       196.0        Gd  ...          2        548         TA   \n",
       "1            8         0.0        TA  ...          2        460         TA   \n",
       "2            5       162.0        Gd  ...          2        608         TA   \n",
       "3            5         0.0        TA  ...          3        642         TA   \n",
       "4            5       350.0        Gd  ...          3        836         TA   \n",
       "5            5         0.0        TA  ...          2        480         TA   \n",
       "6            5       186.0        Gd  ...          2        636         TA   \n",
       "7            6       240.0        TA  ...          2        484         TA   \n",
       "8            5         0.0        TA  ...          2        468         Fa   \n",
       "9            6         0.0        TA  ...          1        205         Gd   \n",
       "\n",
       "   WoodDeckSF OpenPorchSF ScreenPorch  PoolQC  Fence  MiscFeature  SalePrice  \n",
       "0           0          61           0     NaN    NaN          NaN     208500  \n",
       "1         298           0           0     NaN    NaN          NaN     181500  \n",
       "2           0          42           0     NaN    NaN          NaN     223500  \n",
       "3           0          35           0     NaN    NaN          NaN     140000  \n",
       "4         192          84           0     NaN    NaN          NaN     250000  \n",
       "5          40          30           0     NaN  MnPrv         Shed     143000  \n",
       "6         255          57           0     NaN    NaN          NaN     307000  \n",
       "7         235         204           0     NaN    NaN         Shed     200000  \n",
       "8          90           0           0     NaN    NaN          NaN     129900  \n",
       "9           0           4           0     NaN    NaN          NaN     118000  \n",
       "\n",
       "[10 rows x 37 columns]"
      ]
     },
     "execution_count": 9,
     "metadata": {},
     "output_type": "execute_result"
    }
   ],
   "source": [
    "data.head(n=10)"
   ]
  },
  {
   "cell_type": "markdown",
   "metadata": {},
   "source": [
    "## 3. Data Cleaning"
   ]
  },
  {
   "cell_type": "markdown",
   "metadata": {},
   "source": [
    "1. During the Data Cleaning step, let's examine the columns with missing values in the dataset and their respective counts.\n",
    "\n",
    "    <span style=\"color: blue;\">Question:</span> Generate a list of columns with missing values in the <code>house_price</code> dataset, along with their respective counts, sorted in descending order.\n",
    "   \n"
   ]
  },
  {
   "cell_type": "code",
   "execution_count": 351,
   "metadata": {},
   "outputs": [
    {
     "data": {
      "text/plain": [
       "PoolQC          1453\n",
       "MiscFeature     1406\n",
       "Alley           1369\n",
       "Fence           1179\n",
       "FireplaceQu      690\n",
       "LotFrontage      259\n",
       "GarageQual        81\n",
       "BsmtExposure      38\n",
       "BsmtQual          37\n",
       "MasVnrArea         8\n",
       "GarageCars         0\n",
       "KitchenQual        0\n",
       "TotRmsAbvGrd       0\n",
       "Fireplaces         0\n",
       "MSZoning           0\n",
       "GarageArea         0\n",
       "BedroomAbvGr       0\n",
       "WoodDeckSF         0\n",
       "OpenPorchSF        0\n",
       "ScreenPorch        0\n",
       "KitchenAbvGr       0\n",
       "GrLivArea          0\n",
       "FullBath           0\n",
       "BsmtFullBath       0\n",
       "2ndFlrSF           0\n",
       "1stFlrSF           0\n",
       "CentralAir         0\n",
       "HeatingQC          0\n",
       "TotalBsmtSF        0\n",
       "ExterCond          0\n",
       "ExterQual          0\n",
       "OverallCond        0\n",
       "OverallQual        0\n",
       "Utilities          0\n",
       "Street             0\n",
       "LotArea            0\n",
       "SalePrice          0\n",
       "dtype: int64"
      ]
     },
     "execution_count": 351,
     "metadata": {},
     "output_type": "execute_result"
    }
   ],
   "source": [
    "data.isna().sum().sort_values(ascending=False)"
   ]
  },
  {
   "cell_type": "markdown",
   "metadata": {},
   "source": [
    "2. Let's drop columns with missing values exceeding a 10% threshold.\n",
    "\n",
    "    <span style=\"color: blue;\">Question:</span> Determine the columns in the <code>house_price</code> dataset where the percentage of missing values is greater than 10%, and return the rounded percentages of missing values for those columns\n"
   ]
  },
  {
   "cell_type": "code",
   "execution_count": 29,
   "metadata": {},
   "outputs": [
    {
     "data": {
      "text/plain": [
       "LotFrontage    17.74\n",
       "Alley          93.77\n",
       "FireplaceQu    47.26\n",
       "PoolQC         99.52\n",
       "Fence          80.75\n",
       "MiscFeature    96.30\n",
       "dtype: float64"
      ]
     },
     "execution_count": 29,
     "metadata": {},
     "output_type": "execute_result"
    }
   ],
   "source": [
    "na_rate = data.isna().sum().apply(lambda n: 100*n/data.shape[0]).apply(lambda r: round(r, 2))\n",
    "na_rate_gt10 = na_rate.where(na_rate > 10).dropna()\n",
    "na_rate_gt10"
   ]
  },
  {
   "cell_type": "markdown",
   "metadata": {},
   "source": [
    "3. Drop those columns.\n",
    "    \n",
    "    <span style=\"color: blue;\">Question:</span> Remove specific columns from the <code>house_price</code> dataset that have missing values exceeding the threshold\n",
    "\n"
   ]
  },
  {
   "cell_type": "code",
   "execution_count": 30,
   "metadata": {},
   "outputs": [
    {
     "data": {
      "text/plain": [
       "(1460, 31)"
      ]
     },
     "execution_count": 30,
     "metadata": {},
     "output_type": "execute_result"
    }
   ],
   "source": [
    "data2 = data.drop(columns=na_rate_gt10.keys())\n",
    "data2.shape"
   ]
  },
  {
   "cell_type": "markdown",
   "metadata": {},
   "source": [
    "4. We also don't require the variables with less or zero variance. Let's identify and remove those features.\n",
    "\n",
    "    <span style=\"color: blue;\">Question:</span> Detect and drop features from the <code>house_price</code> dataset that exhibit the lowest variance\n"
   ]
  },
  {
   "cell_type": "code",
   "execution_count": 76,
   "metadata": {},
   "outputs": [],
   "source": [
    "numeric_vars = data2.dtypes.apply(lambda t: pd.api.types.is_numeric_dtype(t))\n",
    "numeric_vars = numeric_vars[numeric_vars].keys()\n",
    "variances = data2[numeric_vars].var()\n",
    "min_var = variances.min()\n",
    "min_var_name = variances.where(variances.eq(min_var)).dropna().keys()\n",
    "\n",
    "data3 = data2.drop(columns=min_var_name)"
   ]
  },
  {
   "cell_type": "markdown",
   "metadata": {},
   "source": [
    "5. Continuing with the Data Cleaning process, let us further address the issue of missing values in the dataset. Before that, let's check the percentage of missing values for each variable or column.\n",
    "\n",
    "    <span style=\"color: blue;\">Question:</span> Calculate the percentage of missing values for each column in the <code>house_price</code> dataset, round the results to two decimal places, and then display the top columns with the highest percentages of missing values?\n"
   ]
  },
  {
   "cell_type": "code",
   "execution_count": 84,
   "metadata": {},
   "outputs": [
    {
     "data": {
      "text/plain": [
       "GarageQual      5.55\n",
       "BsmtExposure    2.60\n",
       "BsmtQual        2.53\n",
       "MasVnrArea      0.55\n",
       "MSZoning        0.00\n",
       "dtype: float64"
      ]
     },
     "execution_count": 84,
     "metadata": {},
     "output_type": "execute_result"
    }
   ],
   "source": [
    "data3.isna().sum().apply(lambda n: round(100*n/data3.shape[0], 2)).sort_values(ascending=False).head(n = 5)"
   ]
  },
  {
   "cell_type": "markdown",
   "metadata": {},
   "source": [
    "6. Now, we will impute missing values in specific columns using appropriate strategies.\n",
    "\n",
    "    <span style=\"color: blue;\">Question:</span> Impute missing values in the <code>GarageQual</code>, <code>BsmtQual</code>, <code>BsmtExposure</code>, and <code>MasVnrArea</code> columns of the <code>house_price</code> dataset.\n"
   ]
  },
  {
   "cell_type": "code",
   "execution_count": 170,
   "metadata": {},
   "outputs": [
    {
     "data": {
      "text/plain": [
       "MSZoning       0.0\n",
       "LotArea        0.0\n",
       "ScreenPorch    0.0\n",
       "OpenPorchSF    0.0\n",
       "WoodDeckSF     0.0\n",
       "dtype: float64"
      ]
     },
     "execution_count": 170,
     "metadata": {},
     "output_type": "execute_result"
    }
   ],
   "source": [
    "columns = ['GarageQual', 'BsmtExposure', 'BsmtQual', 'MasVnrArea']\n",
    "impute_dict = data3[columns[:3]].mode().iloc[0].to_dict()\n",
    "impute_dict.update(data3[columns[-1:]].mean().to_dict())\n",
    "\n",
    "for c in columns:\n",
    "    conds = data4['GarageQual'].notna()\n",
    "    data4 = data3.fillna(impute_dict)\n",
    "\n",
    "data4.isna().sum().apply(lambda n: round(100*n/data3.shape[0], 2)).sort_values(ascending=False).head(n = 5)"
   ]
  },
  {
   "cell_type": "markdown",
   "metadata": {},
   "source": [
    "7. Let's perform outlier removal on selected numerical columns in the dataset.\n",
    "\n",
    "    <span style=\"color: blue;\">Question:</span> Iidentify and remove outliers from the <code>house_price</code> dataset.\n",
    "\n"
   ]
  },
  {
   "cell_type": "code",
   "execution_count": 167,
   "metadata": {},
   "outputs": [
    {
     "data": {
      "text/plain": [
       "(1258, 30)"
      ]
     },
     "execution_count": 167,
     "metadata": {},
     "output_type": "execute_result"
    }
   ],
   "source": [
    "try:\n",
    "    numeric_vars = numeric_vars.to_list().remove(min_var_name)\n",
    "except ValueError:\n",
    "    pass\n",
    "\n",
    "threshold = 3\n",
    "has_outlier = (np.abs(stats.zscore(data4[numeric_vars])) < threshold).all(axis = 1)\n",
    "data5 = data4.where(has_outlier).dropna()\n",
    "data5.shape"
   ]
  },
  {
   "cell_type": "markdown",
   "metadata": {},
   "source": [
    "## 3. Exploratory data analysis"
   ]
  },
  {
   "cell_type": "markdown",
   "metadata": {},
   "source": [
    "1. Let's start the Exploratory Data Analysis by examining the cleaned dataset.\n",
    "\n",
    "    <span style=\"color: blue;\">Question:</span> Display the shape of the cleaned <code>house_price</code> dataset and obtain information about its columns, data types, and non-null counts\n",
    "   \n"
   ]
  },
  {
   "cell_type": "code",
   "execution_count": 171,
   "metadata": {},
   "outputs": [
    {
     "name": "stdout",
     "output_type": "stream",
     "text": [
      "<class 'pandas.core.frame.DataFrame'>\n",
      "Index: 1258 entries, 0 to 1458\n",
      "Data columns (total 30 columns):\n",
      " #   Column        Non-Null Count  Dtype  \n",
      "---  ------        --------------  -----  \n",
      " 0   MSZoning      1258 non-null   object \n",
      " 1   LotArea       1258 non-null   float64\n",
      " 2   Street        1258 non-null   object \n",
      " 3   Utilities     1258 non-null   object \n",
      " 4   OverallQual   1258 non-null   float64\n",
      " 5   OverallCond   1258 non-null   float64\n",
      " 6   MasVnrArea    1258 non-null   float64\n",
      " 7   ExterQual     1258 non-null   object \n",
      " 8   ExterCond     1258 non-null   object \n",
      " 9   BsmtQual      1258 non-null   object \n",
      " 10  BsmtExposure  1258 non-null   object \n",
      " 11  TotalBsmtSF   1258 non-null   float64\n",
      " 12  HeatingQC     1258 non-null   object \n",
      " 13  CentralAir    1258 non-null   object \n",
      " 14  1stFlrSF      1258 non-null   float64\n",
      " 15  2ndFlrSF      1258 non-null   float64\n",
      " 16  GrLivArea     1258 non-null   float64\n",
      " 17  BsmtFullBath  1258 non-null   float64\n",
      " 18  FullBath      1258 non-null   float64\n",
      " 19  BedroomAbvGr  1258 non-null   float64\n",
      " 20  KitchenQual   1258 non-null   object \n",
      " 21  TotRmsAbvGrd  1258 non-null   float64\n",
      " 22  Fireplaces    1258 non-null   float64\n",
      " 23  GarageCars    1258 non-null   float64\n",
      " 24  GarageArea    1258 non-null   float64\n",
      " 25  GarageQual    1258 non-null   object \n",
      " 26  WoodDeckSF    1258 non-null   float64\n",
      " 27  OpenPorchSF   1258 non-null   float64\n",
      " 28  ScreenPorch   1258 non-null   float64\n",
      " 29  SalePrice     1258 non-null   float64\n",
      "dtypes: float64(19), object(11)\n",
      "memory usage: 304.7+ KB\n"
     ]
    }
   ],
   "source": [
    "data5.info()"
   ]
  },
  {
   "cell_type": "markdown",
   "metadata": {},
   "source": [
    "2. Let's visually assess the correlations between variables by creating a heatmap.\n",
    "\n",
    "    <span style=\"color: blue;\">Question:</span> Generate a heatmap to visualize the correlation matrix among numerical variables in the cleaned <code>house_price</code> dataset.\n",
    "\n"
   ]
  },
  {
   "cell_type": "code",
   "execution_count": 187,
   "metadata": {},
   "outputs": [
    {
     "data": {
      "image/png": "[encoded data removed]",
      "text/plain": [
       "<Figure size 640x480 with 2 Axes>"
      ]
     },
     "metadata": {},
     "output_type": "display_data"
    }
   ],
   "source": [
    "plt.matshow(data5.corr(numeric_only=True), fignum=0)\n",
    "plt.xticks(range(data5.select_dtypes(['number']).shape[1]), data5.select_dtypes(['number']).columns, fontsize=6, rotation=45)\n",
    "plt.yticks(range(data5.select_dtypes(['number']).shape[1]), data5.select_dtypes(['number']).columns, fontsize=6)\n",
    "cb = plt.colorbar()\n",
    "cb.ax.tick_params(labelsize=10)\n",
    "plt.title('Correlation Matrix', fontsize=14)\n",
    "plt.xticks\n",
    "plt.show()"
   ]
  },
  {
   "cell_type": "markdown",
   "metadata": {},
   "source": [
    "In the above map, we observe that Quality has the highest correlation with SalePrice among the numeric variables (0.8). It rates the overall material and finish of the house on a scale from 1 (very poor) to 10 (excellent).\n",
    "    \n",
    "3. Let's visualize the relationship between 'Overall Quality' and 'SalePrice' using a bar plot.\n",
    "\n",
    "    <span style=\"color: blue;\">Question:</span> Create a bar plot comparing the median sale prices for different levels of 'Overall Quality' in the cleaned <code>house_price</code> dataset.\n",
    "   \n"
   ]
  },
  {
   "cell_type": "code",
   "execution_count": 205,
   "metadata": {},
   "outputs": [
    {
     "data": {
      "text/plain": [
       "<Axes: title={'center': 'Median Sale Price by Overall Quality'}, xlabel='OverallQual'>"
      ]
     },
     "execution_count": 205,
     "metadata": {},
     "output_type": "execute_result"
    },
    {
     "data": {
      "image/png": "[encoded data removed]",
      "text/plain": [
       "<Figure size 640x480 with 1 Axes>"
      ]
     },
     "metadata": {},
     "output_type": "display_data"
    }
   ],
   "source": [
    "price_by_qual = data5.select_dtypes(['number']).groupby(by=\"OverallQual\").median()[[\"SalePrice\"]]\n",
    "price_by_qual.plot.bar(y='SalePrice', title=\"Median Sale Price by Overall Quality\")"
   ]
  },
  {
   "cell_type": "markdown",
   "metadata": {},
   "source": [
    "5. Let's further analyze the relationship between 'SalePrice' and 'Overall Quality' using box plots.\n",
    "Box plots provide a visual summary of data distribution, showing the median, quartiles, and potential outliers. Unlike bar graphs, they offer insights into data spread and skewness, enhancing the understanding of variability within each category.\n",
    "\n",
    "    <span style=\"color: blue;\">Question:</span> Create box plots to visually compare the distribution of 'SalePrice' across different levels of 'Overall Quality' in the cleaned <code>house_price</code> dataset.\n",
    "   "
   ]
  },
  {
   "cell_type": "code",
   "execution_count": 207,
   "metadata": {},
   "outputs": [
    {
     "data": {
      "text/plain": [
       "SalePrice    Axes(0.125,0.11;0.775x0.77)\n",
       "dtype: object"
      ]
     },
     "execution_count": 207,
     "metadata": {},
     "output_type": "execute_result"
    },
    {
     "data": {
      "image/png": "[encoded data removed]",
      "text/plain": [
       "<Figure size 1000x800 with 1 Axes>"
      ]
     },
     "metadata": {},
     "output_type": "display_data"
    }
   ],
   "source": [
    "data5.plot.box(column=\"SalePrice\", by=\"OverallQual\", figsize=(10,8))"
   ]
  },
  {
   "cell_type": "markdown",
   "metadata": {},
   "source": [
    "## 4. Preprocessing features"
   ]
  },
  {
   "cell_type": "markdown",
   "metadata": {},
   "source": [
    "1. Let's move on to preprocessing the categorical features in the dataset.\n",
    "\n",
    "    <span style=\"color: blue;\">Question:</span> Display the unique values of each categorical feature in the cleaned <code>house_price</code> dataset?\n"
   ]
  },
  {
   "cell_type": "code",
   "execution_count": 217,
   "metadata": {},
   "outputs": [
    {
     "name": "stdout",
     "output_type": "stream",
     "text": [
      "MSZoning: ['RL' 'RM' 'C (all)' 'FV' 'RH']\n",
      "Street: ['Pave' 'Grvl']\n",
      "Utilities: ['AllPub']\n",
      "ExterQual: ['Gd' 'TA' 'Ex' 'Fa']\n",
      "ExterCond: ['TA' 'Gd' 'Fa']\n",
      "BsmtQual: ['Gd' 'TA' 'Ex' 'Fa']\n",
      "BsmtExposure: ['No' 'Gd' 'Mn' 'Av']\n",
      "HeatingQC: ['Ex' 'Gd' 'TA' 'Fa' 'Po']\n",
      "CentralAir: ['Y' 'N']\n",
      "KitchenQual: ['Gd' 'TA' 'Ex' 'Fa']\n",
      "GarageQual: ['TA' 'Fa' 'Gd' 'Po' 'Ex']\n"
     ]
    }
   ],
   "source": [
    "data5_cat = data5.select_dtypes(exclude=['number'])\n",
    "\n",
    "for c in data5_cat.columns:\n",
    "    print(c, data5_cat[c].unique(), sep = \": \")"
   ]
  },
  {
   "cell_type": "markdown",
   "metadata": {},
   "source": [
    "2. We will now convert categorical features to real numbers for better compatibility with machine learning algorithms.\n",
    "\n",
    "    <span style=\"color: blue;\">Question:</span> Convert specific categorical features in the cleaned <code>house_price</code> dataset to real numbers based on predefined mappings\n"
   ]
  },
  {
   "cell_type": "code",
   "execution_count": 236,
   "metadata": {},
   "outputs": [],
   "source": [
    "mappings = {c: {r: v for v, r in enumerate(data5_cat[c].unique().tolist())} for c in data5_cat.columns}\n",
    "data6 = data5.replace(to_replace=mappings)"
   ]
  },
  {
   "cell_type": "markdown",
   "metadata": {},
   "source": [
    "3. To handle categorical features without inherent order, we'll create dummy columns.\n",
    "\n",
    "    <span style=\"color: blue;\">Question:</span>Generate dummy columns for specific categorical features in the cleaned <code>house_price</code> dataset and join them with the original dataset\n",
    "   \n"
   ]
  },
  {
   "cell_type": "code",
   "execution_count": 352,
   "metadata": {},
   "outputs": [
    {
     "data": {
      "text/html": [
       "<div>\n",
       "<style scoped>\n",
       "    .dataframe tbody tr th:only-of-type {\n",
       "        vertical-align: middle;\n",
       "    }\n",
       "\n",
       "    .dataframe tbody tr th {\n",
       "        vertical-align: top;\n",
       "    }\n",
       "\n",
       "    .dataframe thead th {\n",
       "        text-align: right;\n",
       "    }\n",
       "</style>\n",
       "<table border=\"1\" class=\"dataframe\">\n",
       "  <thead>\n",
       "    <tr style=\"text-align: right;\">\n",
       "      <th></th>\n",
       "      <th>LotArea</th>\n",
       "      <th>OverallQual</th>\n",
       "      <th>OverallCond</th>\n",
       "      <th>MasVnrArea</th>\n",
       "      <th>TotalBsmtSF</th>\n",
       "      <th>1stFlrSF</th>\n",
       "      <th>2ndFlrSF</th>\n",
       "      <th>GrLivArea</th>\n",
       "      <th>BsmtFullBath</th>\n",
       "      <th>FullBath</th>\n",
       "      <th>...</th>\n",
       "      <th>HeatingQC_3</th>\n",
       "      <th>HeatingQC_4</th>\n",
       "      <th>CentralAir_1</th>\n",
       "      <th>KitchenQual_1</th>\n",
       "      <th>KitchenQual_2</th>\n",
       "      <th>KitchenQual_3</th>\n",
       "      <th>GarageQual_1</th>\n",
       "      <th>GarageQual_2</th>\n",
       "      <th>GarageQual_3</th>\n",
       "      <th>GarageQual_4</th>\n",
       "    </tr>\n",
       "  </thead>\n",
       "  <tbody>\n",
       "    <tr>\n",
       "      <th>0</th>\n",
       "      <td>8450.0</td>\n",
       "      <td>7.0</td>\n",
       "      <td>5.0</td>\n",
       "      <td>196.0</td>\n",
       "      <td>856.0</td>\n",
       "      <td>856.0</td>\n",
       "      <td>854.0</td>\n",
       "      <td>1710.0</td>\n",
       "      <td>1.0</td>\n",
       "      <td>2.0</td>\n",
       "      <td>...</td>\n",
       "      <td>0</td>\n",
       "      <td>0</td>\n",
       "      <td>0</td>\n",
       "      <td>0</td>\n",
       "      <td>0</td>\n",
       "      <td>0</td>\n",
       "      <td>0</td>\n",
       "      <td>0</td>\n",
       "      <td>0</td>\n",
       "      <td>0</td>\n",
       "    </tr>\n",
       "    <tr>\n",
       "      <th>1</th>\n",
       "      <td>9600.0</td>\n",
       "      <td>6.0</td>\n",
       "      <td>8.0</td>\n",
       "      <td>0.0</td>\n",
       "      <td>1262.0</td>\n",
       "      <td>1262.0</td>\n",
       "      <td>0.0</td>\n",
       "      <td>1262.0</td>\n",
       "      <td>0.0</td>\n",
       "      <td>2.0</td>\n",
       "      <td>...</td>\n",
       "      <td>0</td>\n",
       "      <td>0</td>\n",
       "      <td>0</td>\n",
       "      <td>1</td>\n",
       "      <td>0</td>\n",
       "      <td>0</td>\n",
       "      <td>0</td>\n",
       "      <td>0</td>\n",
       "      <td>0</td>\n",
       "      <td>0</td>\n",
       "    </tr>\n",
       "    <tr>\n",
       "      <th>2</th>\n",
       "      <td>11250.0</td>\n",
       "      <td>7.0</td>\n",
       "      <td>5.0</td>\n",
       "      <td>162.0</td>\n",
       "      <td>920.0</td>\n",
       "      <td>920.0</td>\n",
       "      <td>866.0</td>\n",
       "      <td>1786.0</td>\n",
       "      <td>1.0</td>\n",
       "      <td>2.0</td>\n",
       "      <td>...</td>\n",
       "      <td>0</td>\n",
       "      <td>0</td>\n",
       "      <td>0</td>\n",
       "      <td>0</td>\n",
       "      <td>0</td>\n",
       "      <td>0</td>\n",
       "      <td>0</td>\n",
       "      <td>0</td>\n",
       "      <td>0</td>\n",
       "      <td>0</td>\n",
       "    </tr>\n",
       "    <tr>\n",
       "      <th>3</th>\n",
       "      <td>9550.0</td>\n",
       "      <td>7.0</td>\n",
       "      <td>5.0</td>\n",
       "      <td>0.0</td>\n",
       "      <td>756.0</td>\n",
       "      <td>961.0</td>\n",
       "      <td>756.0</td>\n",
       "      <td>1717.0</td>\n",
       "      <td>1.0</td>\n",
       "      <td>1.0</td>\n",
       "      <td>...</td>\n",
       "      <td>0</td>\n",
       "      <td>0</td>\n",
       "      <td>0</td>\n",
       "      <td>0</td>\n",
       "      <td>0</td>\n",
       "      <td>0</td>\n",
       "      <td>0</td>\n",
       "      <td>0</td>\n",
       "      <td>0</td>\n",
       "      <td>0</td>\n",
       "    </tr>\n",
       "    <tr>\n",
       "      <th>4</th>\n",
       "      <td>14260.0</td>\n",
       "      <td>8.0</td>\n",
       "      <td>5.0</td>\n",
       "      <td>350.0</td>\n",
       "      <td>1145.0</td>\n",
       "      <td>1145.0</td>\n",
       "      <td>1053.0</td>\n",
       "      <td>2198.0</td>\n",
       "      <td>1.0</td>\n",
       "      <td>2.0</td>\n",
       "      <td>...</td>\n",
       "      <td>0</td>\n",
       "      <td>0</td>\n",
       "      <td>0</td>\n",
       "      <td>0</td>\n",
       "      <td>0</td>\n",
       "      <td>0</td>\n",
       "      <td>0</td>\n",
       "      <td>0</td>\n",
       "      <td>0</td>\n",
       "      <td>0</td>\n",
       "    </tr>\n",
       "    <tr>\n",
       "      <th>...</th>\n",
       "      <td>...</td>\n",
       "      <td>...</td>\n",
       "      <td>...</td>\n",
       "      <td>...</td>\n",
       "      <td>...</td>\n",
       "      <td>...</td>\n",
       "      <td>...</td>\n",
       "      <td>...</td>\n",
       "      <td>...</td>\n",
       "      <td>...</td>\n",
       "      <td>...</td>\n",
       "      <td>...</td>\n",
       "      <td>...</td>\n",
       "      <td>...</td>\n",
       "      <td>...</td>\n",
       "      <td>...</td>\n",
       "      <td>...</td>\n",
       "      <td>...</td>\n",
       "      <td>...</td>\n",
       "      <td>...</td>\n",
       "      <td>...</td>\n",
       "    </tr>\n",
       "    <tr>\n",
       "      <th>1453</th>\n",
       "      <td>17217.0</td>\n",
       "      <td>5.0</td>\n",
       "      <td>5.0</td>\n",
       "      <td>0.0</td>\n",
       "      <td>1140.0</td>\n",
       "      <td>1140.0</td>\n",
       "      <td>0.0</td>\n",
       "      <td>1140.0</td>\n",
       "      <td>0.0</td>\n",
       "      <td>1.0</td>\n",
       "      <td>...</td>\n",
       "      <td>0</td>\n",
       "      <td>0</td>\n",
       "      <td>0</td>\n",
       "      <td>1</td>\n",
       "      <td>0</td>\n",
       "      <td>0</td>\n",
       "      <td>0</td>\n",
       "      <td>0</td>\n",
       "      <td>0</td>\n",
       "      <td>0</td>\n",
       "    </tr>\n",
       "    <tr>\n",
       "      <th>1454</th>\n",
       "      <td>7500.0</td>\n",
       "      <td>7.0</td>\n",
       "      <td>5.0</td>\n",
       "      <td>0.0</td>\n",
       "      <td>1221.0</td>\n",
       "      <td>1221.0</td>\n",
       "      <td>0.0</td>\n",
       "      <td>1221.0</td>\n",
       "      <td>1.0</td>\n",
       "      <td>2.0</td>\n",
       "      <td>...</td>\n",
       "      <td>0</td>\n",
       "      <td>0</td>\n",
       "      <td>0</td>\n",
       "      <td>0</td>\n",
       "      <td>0</td>\n",
       "      <td>0</td>\n",
       "      <td>0</td>\n",
       "      <td>0</td>\n",
       "      <td>0</td>\n",
       "      <td>0</td>\n",
       "    </tr>\n",
       "    <tr>\n",
       "      <th>1455</th>\n",
       "      <td>7917.0</td>\n",
       "      <td>6.0</td>\n",
       "      <td>5.0</td>\n",
       "      <td>0.0</td>\n",
       "      <td>953.0</td>\n",
       "      <td>953.0</td>\n",
       "      <td>694.0</td>\n",
       "      <td>1647.0</td>\n",
       "      <td>0.0</td>\n",
       "      <td>2.0</td>\n",
       "      <td>...</td>\n",
       "      <td>0</td>\n",
       "      <td>0</td>\n",
       "      <td>0</td>\n",
       "      <td>1</td>\n",
       "      <td>0</td>\n",
       "      <td>0</td>\n",
       "      <td>0</td>\n",
       "      <td>0</td>\n",
       "      <td>0</td>\n",
       "      <td>0</td>\n",
       "    </tr>\n",
       "    <tr>\n",
       "      <th>1456</th>\n",
       "      <td>13175.0</td>\n",
       "      <td>6.0</td>\n",
       "      <td>6.0</td>\n",
       "      <td>119.0</td>\n",
       "      <td>1542.0</td>\n",
       "      <td>2073.0</td>\n",
       "      <td>0.0</td>\n",
       "      <td>2073.0</td>\n",
       "      <td>1.0</td>\n",
       "      <td>2.0</td>\n",
       "      <td>...</td>\n",
       "      <td>0</td>\n",
       "      <td>0</td>\n",
       "      <td>0</td>\n",
       "      <td>1</td>\n",
       "      <td>0</td>\n",
       "      <td>0</td>\n",
       "      <td>0</td>\n",
       "      <td>0</td>\n",
       "      <td>0</td>\n",
       "      <td>0</td>\n",
       "    </tr>\n",
       "    <tr>\n",
       "      <th>1458</th>\n",
       "      <td>9717.0</td>\n",
       "      <td>5.0</td>\n",
       "      <td>6.0</td>\n",
       "      <td>0.0</td>\n",
       "      <td>1078.0</td>\n",
       "      <td>1078.0</td>\n",
       "      <td>0.0</td>\n",
       "      <td>1078.0</td>\n",
       "      <td>1.0</td>\n",
       "      <td>1.0</td>\n",
       "      <td>...</td>\n",
       "      <td>0</td>\n",
       "      <td>0</td>\n",
       "      <td>0</td>\n",
       "      <td>0</td>\n",
       "      <td>0</td>\n",
       "      <td>0</td>\n",
       "      <td>0</td>\n",
       "      <td>0</td>\n",
       "      <td>0</td>\n",
       "      <td>0</td>\n",
       "    </tr>\n",
       "  </tbody>\n",
       "</table>\n",
       "<p>1258 rows × 47 columns</p>\n",
       "</div>"
      ],
      "text/plain": [
       "      LotArea  OverallQual  OverallCond  MasVnrArea  TotalBsmtSF  1stFlrSF  \\\n",
       "0      8450.0          7.0          5.0       196.0        856.0     856.0   \n",
       "1      9600.0          6.0          8.0         0.0       1262.0    1262.0   \n",
       "2     11250.0          7.0          5.0       162.0        920.0     920.0   \n",
       "3      9550.0          7.0          5.0         0.0        756.0     961.0   \n",
       "4     14260.0          8.0          5.0       350.0       1145.0    1145.0   \n",
       "...       ...          ...          ...         ...          ...       ...   \n",
       "1453  17217.0          5.0          5.0         0.0       1140.0    1140.0   \n",
       "1454   7500.0          7.0          5.0         0.0       1221.0    1221.0   \n",
       "1455   7917.0          6.0          5.0         0.0        953.0     953.0   \n",
       "1456  13175.0          6.0          6.0       119.0       1542.0    2073.0   \n",
       "1458   9717.0          5.0          6.0         0.0       1078.0    1078.0   \n",
       "\n",
       "      2ndFlrSF  GrLivArea  BsmtFullBath  FullBath  ...  HeatingQC_3  \\\n",
       "0        854.0     1710.0           1.0       2.0  ...            0   \n",
       "1          0.0     1262.0           0.0       2.0  ...            0   \n",
       "2        866.0     1786.0           1.0       2.0  ...            0   \n",
       "3        756.0     1717.0           1.0       1.0  ...            0   \n",
       "4       1053.0     2198.0           1.0       2.0  ...            0   \n",
       "...        ...        ...           ...       ...  ...          ...   \n",
       "1453       0.0     1140.0           0.0       1.0  ...            0   \n",
       "1454       0.0     1221.0           1.0       2.0  ...            0   \n",
       "1455     694.0     1647.0           0.0       2.0  ...            0   \n",
       "1456       0.0     2073.0           1.0       2.0  ...            0   \n",
       "1458       0.0     1078.0           1.0       1.0  ...            0   \n",
       "\n",
       "      HeatingQC_4  CentralAir_1  KitchenQual_1  KitchenQual_2  KitchenQual_3  \\\n",
       "0               0             0              0              0              0   \n",
       "1               0             0              1              0              0   \n",
       "2               0             0              0              0              0   \n",
       "3               0             0              0              0              0   \n",
       "4               0             0              0              0              0   \n",
       "...           ...           ...            ...            ...            ...   \n",
       "1453            0             0              1              0              0   \n",
       "1454            0             0              0              0              0   \n",
       "1455            0             0              1              0              0   \n",
       "1456            0             0              1              0              0   \n",
       "1458            0             0              0              0              0   \n",
       "\n",
       "      GarageQual_1  GarageQual_2  GarageQual_3  GarageQual_4  \n",
       "0                0             0             0             0  \n",
       "1                0             0             0             0  \n",
       "2                0             0             0             0  \n",
       "3                0             0             0             0  \n",
       "4                0             0             0             0  \n",
       "...            ...           ...           ...           ...  \n",
       "1453             0             0             0             0  \n",
       "1454             0             0             0             0  \n",
       "1455             0             0             0             0  \n",
       "1456             0             0             0             0  \n",
       "1458             0             0             0             0  \n",
       "\n",
       "[1258 rows x 47 columns]"
      ]
     },
     "execution_count": 352,
     "metadata": {},
     "output_type": "execute_result"
    }
   ],
   "source": [
    "data7 = pd.get_dummies(data6, columns=data5_cat.columns, dtype=int, drop_first=True)"
   ]
  },
  {
   "cell_type": "markdown",
   "metadata": {},
   "source": [
    "## 5. Modelling Linear Regression\n",
    "1. Moving on to the modeling phase. We need to first standardize the features and the target variable as they can be of different scales.\n",
    "\n",
    "    <span style=\"color: blue;\">Question:</span> Perform standardization on the non-categorical features and the target variable in the <code>house_price</code> dataset using the <code>StandardScaler</code> from <code>sklearn.preprocessing</code>\n"
   ]
  },
  {
   "cell_type": "code",
   "execution_count": 290,
   "metadata": {},
   "outputs": [
    {
     "data": {
      "text/html": [
       "<div>\n",
       "<style scoped>\n",
       "    .dataframe tbody tr th:only-of-type {\n",
       "        vertical-align: middle;\n",
       "    }\n",
       "\n",
       "    .dataframe tbody tr th {\n",
       "        vertical-align: top;\n",
       "    }\n",
       "\n",
       "    .dataframe thead th {\n",
       "        text-align: right;\n",
       "    }\n",
       "</style>\n",
       "<table border=\"1\" class=\"dataframe\">\n",
       "  <thead>\n",
       "    <tr style=\"text-align: right;\">\n",
       "      <th></th>\n",
       "      <th>MSZoning</th>\n",
       "      <th>LotArea</th>\n",
       "      <th>Street</th>\n",
       "      <th>Utilities</th>\n",
       "      <th>OverallQual</th>\n",
       "      <th>OverallCond</th>\n",
       "      <th>MasVnrArea</th>\n",
       "      <th>ExterQual</th>\n",
       "      <th>ExterCond</th>\n",
       "      <th>BsmtQual</th>\n",
       "      <th>...</th>\n",
       "      <th>KitchenQual</th>\n",
       "      <th>TotRmsAbvGrd</th>\n",
       "      <th>Fireplaces</th>\n",
       "      <th>GarageCars</th>\n",
       "      <th>GarageArea</th>\n",
       "      <th>GarageQual</th>\n",
       "      <th>WoodDeckSF</th>\n",
       "      <th>OpenPorchSF</th>\n",
       "      <th>ScreenPorch</th>\n",
       "      <th>SalePrice</th>\n",
       "    </tr>\n",
       "  </thead>\n",
       "  <tbody>\n",
       "    <tr>\n",
       "      <th>0</th>\n",
       "      <td>0</td>\n",
       "      <td>-0.247908</td>\n",
       "      <td>0</td>\n",
       "      <td>0</td>\n",
       "      <td>0.776889</td>\n",
       "      <td>-0.553348</td>\n",
       "      <td>0.871752</td>\n",
       "      <td>0</td>\n",
       "      <td>0</td>\n",
       "      <td>0</td>\n",
       "      <td>...</td>\n",
       "      <td>0</td>\n",
       "      <td>1.165469</td>\n",
       "      <td>-0.916329</td>\n",
       "      <td>0.381798</td>\n",
       "      <td>0.453619</td>\n",
       "      <td>0</td>\n",
       "      <td>-0.794586</td>\n",
       "      <td>0.396747</td>\n",
       "      <td>-0.207231</td>\n",
       "      <td>0.598913</td>\n",
       "    </tr>\n",
       "    <tr>\n",
       "      <th>1</th>\n",
       "      <td>0</td>\n",
       "      <td>0.040213</td>\n",
       "      <td>0</td>\n",
       "      <td>0</td>\n",
       "      <td>-0.000618</td>\n",
       "      <td>2.400448</td>\n",
       "      <td>-0.622778</td>\n",
       "      <td>1</td>\n",
       "      <td>0</td>\n",
       "      <td>0</td>\n",
       "      <td>...</td>\n",
       "      <td>1</td>\n",
       "      <td>-0.232871</td>\n",
       "      <td>0.749483</td>\n",
       "      <td>0.381798</td>\n",
       "      <td>0.009629</td>\n",
       "      <td>0</td>\n",
       "      <td>1.939641</td>\n",
       "      <td>-0.757106</td>\n",
       "      <td>-0.207231</td>\n",
       "      <td>0.172805</td>\n",
       "    </tr>\n",
       "    <tr>\n",
       "      <th>2</th>\n",
       "      <td>0</td>\n",
       "      <td>0.453604</td>\n",
       "      <td>0</td>\n",
       "      <td>0</td>\n",
       "      <td>0.776889</td>\n",
       "      <td>-0.553348</td>\n",
       "      <td>0.612497</td>\n",
       "      <td>0</td>\n",
       "      <td>0</td>\n",
       "      <td>0</td>\n",
       "      <td>...</td>\n",
       "      <td>0</td>\n",
       "      <td>-0.232871</td>\n",
       "      <td>0.749483</td>\n",
       "      <td>0.381798</td>\n",
       "      <td>0.756340</td>\n",
       "      <td>0</td>\n",
       "      <td>-0.794586</td>\n",
       "      <td>0.037350</td>\n",
       "      <td>-0.207231</td>\n",
       "      <td>0.835640</td>\n",
       "    </tr>\n",
       "    <tr>\n",
       "      <th>3</th>\n",
       "      <td>0</td>\n",
       "      <td>0.027686</td>\n",
       "      <td>0</td>\n",
       "      <td>0</td>\n",
       "      <td>0.776889</td>\n",
       "      <td>-0.553348</td>\n",
       "      <td>-0.622778</td>\n",
       "      <td>1</td>\n",
       "      <td>0</td>\n",
       "      <td>1</td>\n",
       "      <td>...</td>\n",
       "      <td>0</td>\n",
       "      <td>0.466299</td>\n",
       "      <td>0.749483</td>\n",
       "      <td>1.769954</td>\n",
       "      <td>0.927881</td>\n",
       "      <td>0</td>\n",
       "      <td>-0.794586</td>\n",
       "      <td>-0.095059</td>\n",
       "      <td>-0.207231</td>\n",
       "      <td>-0.482138</td>\n",
       "    </tr>\n",
       "    <tr>\n",
       "      <th>4</th>\n",
       "      <td>0</td>\n",
       "      <td>1.207730</td>\n",
       "      <td>0</td>\n",
       "      <td>0</td>\n",
       "      <td>1.554396</td>\n",
       "      <td>-0.553348</td>\n",
       "      <td>2.046026</td>\n",
       "      <td>0</td>\n",
       "      <td>0</td>\n",
       "      <td>0</td>\n",
       "      <td>...</td>\n",
       "      <td>0</td>\n",
       "      <td>1.864639</td>\n",
       "      <td>0.749483</td>\n",
       "      <td>1.769954</td>\n",
       "      <td>1.906677</td>\n",
       "      <td>0</td>\n",
       "      <td>0.967063</td>\n",
       "      <td>0.831806</td>\n",
       "      <td>-0.207231</td>\n",
       "      <td>1.253856</td>\n",
       "    </tr>\n",
       "    <tr>\n",
       "      <th>...</th>\n",
       "      <td>...</td>\n",
       "      <td>...</td>\n",
       "      <td>...</td>\n",
       "      <td>...</td>\n",
       "      <td>...</td>\n",
       "      <td>...</td>\n",
       "      <td>...</td>\n",
       "      <td>...</td>\n",
       "      <td>...</td>\n",
       "      <td>...</td>\n",
       "      <td>...</td>\n",
       "      <td>...</td>\n",
       "      <td>...</td>\n",
       "      <td>...</td>\n",
       "      <td>...</td>\n",
       "      <td>...</td>\n",
       "      <td>...</td>\n",
       "      <td>...</td>\n",
       "      <td>...</td>\n",
       "      <td>...</td>\n",
       "      <td>...</td>\n",
       "    </tr>\n",
       "    <tr>\n",
       "      <th>1453</th>\n",
       "      <td>0</td>\n",
       "      <td>1.948578</td>\n",
       "      <td>0</td>\n",
       "      <td>0</td>\n",
       "      <td>-0.778125</td>\n",
       "      <td>-0.553348</td>\n",
       "      <td>-0.622778</td>\n",
       "      <td>1</td>\n",
       "      <td>0</td>\n",
       "      <td>0</td>\n",
       "      <td>...</td>\n",
       "      <td>1</td>\n",
       "      <td>-0.232871</td>\n",
       "      <td>-0.916329</td>\n",
       "      <td>-2.394513</td>\n",
       "      <td>-2.311227</td>\n",
       "      <td>0</td>\n",
       "      <td>-0.464277</td>\n",
       "      <td>0.302169</td>\n",
       "      <td>-0.207231</td>\n",
       "      <td>-1.358027</td>\n",
       "    </tr>\n",
       "    <tr>\n",
       "      <th>1454</th>\n",
       "      <td>3</td>\n",
       "      <td>-0.485922</td>\n",
       "      <td>0</td>\n",
       "      <td>0</td>\n",
       "      <td>0.776889</td>\n",
       "      <td>-0.553348</td>\n",
       "      <td>-0.622778</td>\n",
       "      <td>0</td>\n",
       "      <td>0</td>\n",
       "      <td>0</td>\n",
       "      <td>...</td>\n",
       "      <td>0</td>\n",
       "      <td>-0.232871</td>\n",
       "      <td>-0.916329</td>\n",
       "      <td>0.381798</td>\n",
       "      <td>-0.293091</td>\n",
       "      <td>0</td>\n",
       "      <td>-0.794586</td>\n",
       "      <td>1.380358</td>\n",
       "      <td>-0.207231</td>\n",
       "      <td>0.228041</td>\n",
       "    </tr>\n",
       "    <tr>\n",
       "      <th>1455</th>\n",
       "      <td>0</td>\n",
       "      <td>-0.381446</td>\n",
       "      <td>0</td>\n",
       "      <td>0</td>\n",
       "      <td>-0.000618</td>\n",
       "      <td>-0.553348</td>\n",
       "      <td>-0.622778</td>\n",
       "      <td>1</td>\n",
       "      <td>0</td>\n",
       "      <td>0</td>\n",
       "      <td>...</td>\n",
       "      <td>1</td>\n",
       "      <td>0.466299</td>\n",
       "      <td>0.749483</td>\n",
       "      <td>0.381798</td>\n",
       "      <td>0.009629</td>\n",
       "      <td>0</td>\n",
       "      <td>-0.794586</td>\n",
       "      <td>-0.000481</td>\n",
       "      <td>-0.207231</td>\n",
       "      <td>0.070224</td>\n",
       "    </tr>\n",
       "    <tr>\n",
       "      <th>1456</th>\n",
       "      <td>0</td>\n",
       "      <td>0.935894</td>\n",
       "      <td>0</td>\n",
       "      <td>0</td>\n",
       "      <td>-0.000618</td>\n",
       "      <td>0.431251</td>\n",
       "      <td>0.284615</td>\n",
       "      <td>1</td>\n",
       "      <td>0</td>\n",
       "      <td>0</td>\n",
       "      <td>...</td>\n",
       "      <td>1</td>\n",
       "      <td>0.466299</td>\n",
       "      <td>2.415295</td>\n",
       "      <td>0.381798</td>\n",
       "      <td>0.211443</td>\n",
       "      <td>0</td>\n",
       "      <td>2.407579</td>\n",
       "      <td>-0.757106</td>\n",
       "      <td>-0.207231</td>\n",
       "      <td>0.622586</td>\n",
       "    </tr>\n",
       "    <tr>\n",
       "      <th>1458</th>\n",
       "      <td>0</td>\n",
       "      <td>0.069526</td>\n",
       "      <td>0</td>\n",
       "      <td>0</td>\n",
       "      <td>-0.778125</td>\n",
       "      <td>0.431251</td>\n",
       "      <td>-0.622778</td>\n",
       "      <td>1</td>\n",
       "      <td>0</td>\n",
       "      <td>1</td>\n",
       "      <td>...</td>\n",
       "      <td>0</td>\n",
       "      <td>-0.932042</td>\n",
       "      <td>-0.916329</td>\n",
       "      <td>-1.006358</td>\n",
       "      <td>-1.100345</td>\n",
       "      <td>0</td>\n",
       "      <td>2.563558</td>\n",
       "      <td>-0.757106</td>\n",
       "      <td>-0.207231</td>\n",
       "      <td>-0.448602</td>\n",
       "    </tr>\n",
       "  </tbody>\n",
       "</table>\n",
       "<p>1258 rows × 30 columns</p>\n",
       "</div>"
      ],
      "text/plain": [
       "      MSZoning   LotArea  Street  Utilities  OverallQual  OverallCond  \\\n",
       "0            0 -0.247908       0          0     0.776889    -0.553348   \n",
       "1            0  0.040213       0          0    -0.000618     2.400448   \n",
       "2            0  0.453604       0          0     0.776889    -0.553348   \n",
       "3            0  0.027686       0          0     0.776889    -0.553348   \n",
       "4            0  1.207730       0          0     1.554396    -0.553348   \n",
       "...        ...       ...     ...        ...          ...          ...   \n",
       "1453         0  1.948578       0          0    -0.778125    -0.553348   \n",
       "1454         3 -0.485922       0          0     0.776889    -0.553348   \n",
       "1455         0 -0.381446       0          0    -0.000618    -0.553348   \n",
       "1456         0  0.935894       0          0    -0.000618     0.431251   \n",
       "1458         0  0.069526       0          0    -0.778125     0.431251   \n",
       "\n",
       "      MasVnrArea  ExterQual  ExterCond  BsmtQual  ...  KitchenQual  \\\n",
       "0       0.871752          0          0         0  ...            0   \n",
       "1      -0.622778          1          0         0  ...            1   \n",
       "2       0.612497          0          0         0  ...            0   \n",
       "3      -0.622778          1          0         1  ...            0   \n",
       "4       2.046026          0          0         0  ...            0   \n",
       "...          ...        ...        ...       ...  ...          ...   \n",
       "1453   -0.622778          1          0         0  ...            1   \n",
       "1454   -0.622778          0          0         0  ...            0   \n",
       "1455   -0.622778          1          0         0  ...            1   \n",
       "1456    0.284615          1          0         0  ...            1   \n",
       "1458   -0.622778          1          0         1  ...            0   \n",
       "\n",
       "      TotRmsAbvGrd  Fireplaces  GarageCars  GarageArea  GarageQual  \\\n",
       "0         1.165469   -0.916329    0.381798    0.453619           0   \n",
       "1        -0.232871    0.749483    0.381798    0.009629           0   \n",
       "2        -0.232871    0.749483    0.381798    0.756340           0   \n",
       "3         0.466299    0.749483    1.769954    0.927881           0   \n",
       "4         1.864639    0.749483    1.769954    1.906677           0   \n",
       "...            ...         ...         ...         ...         ...   \n",
       "1453     -0.232871   -0.916329   -2.394513   -2.311227           0   \n",
       "1454     -0.232871   -0.916329    0.381798   -0.293091           0   \n",
       "1455      0.466299    0.749483    0.381798    0.009629           0   \n",
       "1456      0.466299    2.415295    0.381798    0.211443           0   \n",
       "1458     -0.932042   -0.916329   -1.006358   -1.100345           0   \n",
       "\n",
       "      WoodDeckSF  OpenPorchSF  ScreenPorch  SalePrice  \n",
       "0      -0.794586     0.396747    -0.207231   0.598913  \n",
       "1       1.939641    -0.757106    -0.207231   0.172805  \n",
       "2      -0.794586     0.037350    -0.207231   0.835640  \n",
       "3      -0.794586    -0.095059    -0.207231  -0.482138  \n",
       "4       0.967063     0.831806    -0.207231   1.253856  \n",
       "...          ...          ...          ...        ...  \n",
       "1453   -0.464277     0.302169    -0.207231  -1.358027  \n",
       "1454   -0.794586     1.380358    -0.207231   0.228041  \n",
       "1455   -0.794586    -0.000481    -0.207231   0.070224  \n",
       "1456    2.407579    -0.757106    -0.207231   0.622586  \n",
       "1458    2.563558    -0.757106    -0.207231  -0.448602  \n",
       "\n",
       "[1258 rows x 30 columns]"
      ]
     },
     "execution_count": 290,
     "metadata": {},
     "output_type": "execute_result"
    }
   ],
   "source": [
    "scaler = StandardScaler()\n",
    "\n",
    "data7 = data6.copy()\n",
    "\n",
    "for c in numeric_vars:\n",
    "    data7[c] = scaler.fit_transform(np.asarray(data7[c]).reshape(-1, 1))\n",
    "\n",
    "data7"
   ]
  },
  {
   "cell_type": "markdown",
   "metadata": {},
   "source": [
    "2. Next, we'll split the dataset into feature and target variables.\n",
    "\n",
    "    <span style=\"color: blue;\">Question:</span> Separate the target variable ('SalePrice') from the <code>house_price</code> dataset and assign it to <code>y</code>. Assign the rest to <code>X</code>"
   ]
  },
  {
   "cell_type": "code",
   "execution_count": 295,
   "metadata": {},
   "outputs": [],
   "source": [
    "X = data7.drop(columns=\"SalePrice\")\n",
    "y = data7.filter(regex=\"SalePrice\")"
   ]
  },
  {
   "cell_type": "markdown",
   "metadata": {},
   "source": [
    "3. Let's proceed by building a Linear Regression model to predict house prices.\n",
    "\n",
    "    <span style=\"color: blue;\">Question:</span> Construct a linear regression model to predict house prices. Print p values.\n",
    "   \n",
    "\n"
   ]
  },
  {
   "cell_type": "code",
   "execution_count": 312,
   "metadata": {},
   "outputs": [
    {
     "data": {
      "text/plain": [
       "const           5.192966e-01\n",
       "MSZoning        5.498687e-01\n",
       "LotArea         1.111034e-12\n",
       "Street          3.144583e-01\n",
       "Utilities       1.575790e-01\n",
       "OverallQual     6.286850e-69\n",
       "OverallCond     7.338878e-06\n",
       "MasVnrArea      2.965700e-03\n",
       "ExterQual       2.566625e-01\n",
       "ExterCond       1.439750e-02\n",
       "BsmtQual        5.575203e-04\n",
       "BsmtExposure    2.652436e-02\n",
       "TotalBsmtSF     7.638399e-15\n",
       "HeatingQC       1.867850e-10\n",
       "CentralAir      1.082561e-01\n",
       "1stFlrSF        3.082254e-03\n",
       "2ndFlrSF        1.629555e-03\n",
       "GrLivArea       4.406562e-01\n",
       "BsmtFullBath    1.345562e-16\n",
       "FullBath        6.214915e-05\n",
       "BedroomAbvGr    4.662632e-05\n",
       "KitchenQual     4.443046e-04\n",
       "TotRmsAbvGrd    7.282654e-01\n",
       "Fireplaces      2.310270e-02\n",
       "GarageCars      4.202994e-03\n",
       "GarageArea      3.185995e-03\n",
       "GarageQual      1.544205e-02\n",
       "WoodDeckSF      6.803567e-06\n",
       "OpenPorchSF     3.580311e-05\n",
       "ScreenPorch     2.792493e-01\n",
       "dtype: float64"
      ]
     },
     "execution_count": 312,
     "metadata": {},
     "output_type": "execute_result"
    }
   ],
   "source": [
    "import statsmodels.api as sm\n",
    "from sklearn.linear_model import LinearRegression\n",
    "\n",
    "fm = LinearRegression().fit(X, y)\n",
    "\n",
    "X2 = sm.add_constant(X)\n",
    "est = sm.OLS(y, X2).fit()\n",
    "est.pvalues"
   ]
  },
  {
   "cell_type": "markdown",
   "metadata": {},
   "source": [
    "4. Let's visualize the learned parameters from the model.\n",
    "\n",
    "    <span style=\"color: blue;\">Question:</span> Create a bar plot to visualize the learned parameters from the regression model? Examine what does this plot reveal about the impact of different features on the predicted house prices?\n"
   ]
  },
  {
   "cell_type": "markdown",
   "metadata": {},
   "source": [
    "More importantly, the p-values of regression coefficients are used to determine whether there is a statistically significant relationship between each predictor variable and the response variable \n",
    "\n",
    "A low p-value (less than some significance level, such as 0.1 or 0.05) indicates that we can reject the null hypothesis and conclude that there is a statistically significant relationship between the predictor variable and the response variable."
   ]
  },
  {
   "cell_type": "markdown",
   "metadata": {},
   "source": [
    "4. Let's display the p-values associated with the coefficients of the variables used in the linear regression.\n",
    "\n",
    "    <span style=\"color: blue;\">Question:</span> Print the p-values associated with the co-efficient estimates of the linear regression model\n"
   ]
  },
  {
   "cell_type": "code",
   "execution_count": 313,
   "metadata": {},
   "outputs": [
    {
     "name": "stdout",
     "output_type": "stream",
     "text": [
      "const           5.192966e-01\n",
      "MSZoning        5.498687e-01\n",
      "LotArea         1.111034e-12\n",
      "Street          3.144583e-01\n",
      "Utilities       1.575790e-01\n",
      "OverallQual     6.286850e-69\n",
      "OverallCond     7.338878e-06\n",
      "MasVnrArea      2.965700e-03\n",
      "ExterQual       2.566625e-01\n",
      "ExterCond       1.439750e-02\n",
      "BsmtQual        5.575203e-04\n",
      "BsmtExposure    2.652436e-02\n",
      "TotalBsmtSF     7.638399e-15\n",
      "HeatingQC       1.867850e-10\n",
      "CentralAir      1.082561e-01\n",
      "1stFlrSF        3.082254e-03\n",
      "2ndFlrSF        1.629555e-03\n",
      "GrLivArea       4.406562e-01\n",
      "BsmtFullBath    1.345562e-16\n",
      "FullBath        6.214915e-05\n",
      "BedroomAbvGr    4.662632e-05\n",
      "KitchenQual     4.443046e-04\n",
      "TotRmsAbvGrd    7.282654e-01\n",
      "Fireplaces      2.310270e-02\n",
      "GarageCars      4.202994e-03\n",
      "GarageArea      3.185995e-03\n",
      "GarageQual      1.544205e-02\n",
      "WoodDeckSF      6.803567e-06\n",
      "OpenPorchSF     3.580311e-05\n",
      "ScreenPorch     2.792493e-01\n",
      "dtype: float64\n"
     ]
    }
   ],
   "source": [
    "print(est.pvalues)"
   ]
  },
  {
   "cell_type": "markdown",
   "metadata": {},
   "source": [
    "It can be seen seen that majority of these variables have significant (i.e., p-values are less than 0.1) impact on the sales. Hence, linear regression is not that useful in this context.\n",
    "\n",
    "\n",
    "1. In the next step, we will build a Lasso regression model that predict house prices, while performing feature selection.\n",
    "\n",
    "    <span style=\"color: blue;\">Question:</span> Create and train this Lasso regression mode.\n"
   ]
  },
  {
   "cell_type": "code",
   "execution_count": 353,
   "metadata": {},
   "outputs": [
    {
     "data": {
      "text/html": [
       "<style>#sk-container-id-9 {color: black;}#sk-container-id-9 pre{padding: 0;}#sk-container-id-9 div.sk-toggleable {background-color: white;}#sk-container-id-9 label.sk-toggleable__label {cursor: pointer;display: block;width: 100%;margin-bottom: 0;padding: 0.3em;box-sizing: border-box;text-align: center;}#sk-container-id-9 label.sk-toggleable__label-arrow:before {content: \"▸\";float: left;margin-right: 0.25em;color: #696969;}#sk-container-id-9 label.sk-toggleable__label-arrow:hover:before {color: black;}#sk-container-id-9 div.sk-estimator:hover label.sk-toggleable__label-arrow:before {color: black;}#sk-container-id-9 div.sk-toggleable__content {max-height: 0;max-width: 0;overflow: hidden;text-align: left;background-color: #f0f8ff;}#sk-container-id-9 div.sk-toggleable__content pre {margin: 0.2em;color: black;border-radius: 0.25em;background-color: #f0f8ff;}#sk-container-id-9 input.sk-toggleable__control:checked~div.sk-toggleable__content {max-height: 200px;max-width: 100%;overflow: auto;}#sk-container-id-9 input.sk-toggleable__control:checked~label.sk-toggleable__label-arrow:before {content: \"▾\";}#sk-container-id-9 div.sk-estimator input.sk-toggleable__control:checked~label.sk-toggleable__label {background-color: #d4ebff;}#sk-container-id-9 div.sk-label input.sk-toggleable__control:checked~label.sk-toggleable__label {background-color: #d4ebff;}#sk-container-id-9 input.sk-hidden--visually {border: 0;clip: rect(1px 1px 1px 1px);clip: rect(1px, 1px, 1px, 1px);height: 1px;margin: -1px;overflow: hidden;padding: 0;position: absolute;width: 1px;}#sk-container-id-9 div.sk-estimator {font-family: monospace;background-color: #f0f8ff;border: 1px dotted black;border-radius: 0.25em;box-sizing: border-box;margin-bottom: 0.5em;}#sk-container-id-9 div.sk-estimator:hover {background-color: #d4ebff;}#sk-container-id-9 div.sk-parallel-item::after {content: \"\";width: 100%;border-bottom: 1px solid gray;flex-grow: 1;}#sk-container-id-9 div.sk-label:hover label.sk-toggleable__label {background-color: #d4ebff;}#sk-container-id-9 div.sk-serial::before {content: \"\";position: absolute;border-left: 1px solid gray;box-sizing: border-box;top: 0;bottom: 0;left: 50%;z-index: 0;}#sk-container-id-9 div.sk-serial {display: flex;flex-direction: column;align-items: center;background-color: white;padding-right: 0.2em;padding-left: 0.2em;position: relative;}#sk-container-id-9 div.sk-item {position: relative;z-index: 1;}#sk-container-id-9 div.sk-parallel {display: flex;align-items: stretch;justify-content: center;background-color: white;position: relative;}#sk-container-id-9 div.sk-item::before, #sk-container-id-9 div.sk-parallel-item::before {content: \"\";position: absolute;border-left: 1px solid gray;box-sizing: border-box;top: 0;bottom: 0;left: 50%;z-index: -1;}#sk-container-id-9 div.sk-parallel-item {display: flex;flex-direction: column;z-index: 1;position: relative;background-color: white;}#sk-container-id-9 div.sk-parallel-item:first-child::after {align-self: flex-end;width: 50%;}#sk-container-id-9 div.sk-parallel-item:last-child::after {align-self: flex-start;width: 50%;}#sk-container-id-9 div.sk-parallel-item:only-child::after {width: 0;}#sk-container-id-9 div.sk-dashed-wrapped {border: 1px dashed gray;margin: 0 0.4em 0.5em 0.4em;box-sizing: border-box;padding-bottom: 0.4em;background-color: white;}#sk-container-id-9 div.sk-label label {font-family: monospace;font-weight: bold;display: inline-block;line-height: 1.2em;}#sk-container-id-9 div.sk-label-container {text-align: center;}#sk-container-id-9 div.sk-container {/* jupyter's `normalize.less` sets `[hidden] { display: none; }` but bootstrap.min.css set `[hidden] { display: none !important; }` so we also need the `!important` here to be able to override the default hidden behavior on the sphinx rendered scikit-learn.org. See: https://github.com/scikit-learn/scikit-learn/issues/21755 */display: inline-block !important;position: relative;}#sk-container-id-9 div.sk-text-repr-fallback {display: none;}</style><div id=\"sk-container-id-9\" class=\"sk-top-container\"><div class=\"sk-text-repr-fallback\"><pre>Lasso(alpha=0.01)</pre><b>In a Jupyter environment, please rerun this cell to show the HTML representation or trust the notebook. <br />On GitHub, the HTML representation is unable to render, please try loading this page with nbviewer.org.</b></div><div class=\"sk-container\" hidden><div class=\"sk-item\"><div class=\"sk-estimator sk-toggleable\"><input class=\"sk-toggleable__control sk-hidden--visually\" id=\"sk-estimator-id-9\" type=\"checkbox\" checked><label for=\"sk-estimator-id-9\" class=\"sk-toggleable__label sk-toggleable__label-arrow\">Lasso</label><div class=\"sk-toggleable__content\"><pre>Lasso(alpha=0.01)</pre></div></div></div></div></div>"
      ],
      "text/plain": [
       "Lasso(alpha=0.01)"
      ]
     },
     "execution_count": 353,
     "metadata": {},
     "output_type": "execute_result"
    }
   ],
   "source": [
    "from sklearn.linear_model import Lasso\n",
    "\n",
    "las = Lasso(alpha=0.01)\n",
    "las.fit(X, y)"
   ]
  },
  {
   "cell_type": "markdown",
   "metadata": {},
   "source": [
    "2. With the trained Lasso regression model, let's obtain the fitted values for the training data.\n",
    "\n",
    "    <span style=\"color: blue;\">Question:</span> Use the <code>predict()</code> function to generate the fitted values for the training data\n"
   ]
  },
  {
   "cell_type": "code",
   "execution_count": 354,
   "metadata": {},
   "outputs": [
    {
     "data": {
      "text/plain": [
       "array([ 0.55404762,  0.21429217,  0.78109003, ...,  0.0542226 ,\n",
       "        0.93731619, -0.4608372 ])"
      ]
     },
     "execution_count": 354,
     "metadata": {},
     "output_type": "execute_result"
    }
   ],
   "source": [
    "y1 = las.predict(X)"
   ]
  },
  {
   "cell_type": "markdown",
   "metadata": {},
   "source": [
    "3. Let's evaluate the performance of the Lasso regression model using the R-squared metric.\n",
    "\n",
    "    <span style=\"color: blue;\">Question:</span> Use the <code>rsquared</code> function.\n"
   ]
  },
  {
   "cell_type": "code",
   "execution_count": 355,
   "metadata": {},
   "outputs": [
    {
     "data": {
      "text/plain": [
       "0.8469713773876559"
      ]
     },
     "execution_count": 355,
     "metadata": {},
     "output_type": "execute_result"
    }
   ],
   "source": [
    "las.score(X, y)"
   ]
  },
  {
   "cell_type": "markdown",
   "metadata": {},
   "source": [
    "4. Let's inspect the learned coefficients (weights) and the intercept (bias) of the Lasso regression model.\n",
    "\n",
    "    <span style=\"color: blue;\">Question:</span> Retrieve the coefficients of the features along with the intercept for the Lasso regression model.\n",
    "\n",
    "\n",
    "    <span style=\"color: purple;\">Explanation:</span> Lasso regression is known for its feature selection capability, where it can drive certain feature coefficients to exactly zero. This is particularly useful when dealing with datasets with many features, as irrelevant features can be effectively eliminated from the model. The coefficients provide insights into how much each feature contributes to the prediction, and the ability to make some coefficients zero helps in simplifying the model and avoiding overfitting.\n"
   ]
  },
  {
   "cell_type": "code",
   "execution_count": null,
   "metadata": {},
   "outputs": [],
   "source": []
  },
  {
   "cell_type": "markdown",
   "metadata": {},
   "source": [
    "5. Let's visualize the learned parameters from the Lasso regression model.\n",
    "\n",
    "    <span style=\"color: blue;\">Question:</span> Create a bar plot to visually represent the learned parameters from the Lasso regression model. What insights can you gather from this visualization regarding the impact of different features on the predicted house prices?\n",
    "   \n",
    "    \n"
   ]
  },
  {
   "cell_type": "code",
   "execution_count": null,
   "metadata": {},
   "outputs": [],
   "source": []
  },
  {
   "cell_type": "markdown",
   "metadata": {},
   "source": [
    "Some variables such as 'MSZoning RH', 'MSZoning RL', and 'MSZoning FV' have zero parameter values. \n",
    "\n",
    "6. Let's create a histogram to compare the true and predicted values of the target variable from the Lasso regression model.\n",
    "\n",
    "    <span style=\"color: blue;\">Question:</span> Use the <code>plt.hist()</code> function to create a histogram that visually compares the distribution of true and predicted values of the target variable (<code>y</code>) from the Lasso regression model.\n"
   ]
  },
  {
   "cell_type": "code",
   "execution_count": null,
   "metadata": {},
   "outputs": [],
   "source": []
  },
  {
   "cell_type": "markdown",
   "metadata": {},
   "source": [
    "7. To better understand the benefits of Lasso regression over linear regression, consider an iterative process of adding features.\n",
    "\n",
    "    <span style=\"color: blue;\">Question:</span> Iteratively add features to observe the impact of Lasso regression compared to linear regression\n"
   ]
  },
  {
   "cell_type": "code",
   "execution_count": null,
   "metadata": {},
   "outputs": [],
   "source": []
  },
  {
   "cell_type": "markdown",
   "metadata": {},
   "source": [
    "<span style=\"color: purple;\">At the end of this iterative process,</span> we observe that after a certain point, there is no significant improvement in the R-squared value for the linear regression model. \n",
    "\n",
    "Some variables such as 'MSZoning RH', 'MSZoning RL', and 'MSZoning FV' have zero parameter values. \n",
    "This behavior highlights the power of Lasso regression in feature selection, where it effectively removes certain features from the model by driving their coefficients to zero. As a result, Lasso helps in simplifying the model and enhancing its interpretability while maintaining competitive predictive performance.\n"
   ]
  }
 ],
 "metadata": {
  "kernelspec": {
   "display_name": "Python 3",
   "language": "python",
   "name": "python3"
  },
  "language_info": {
   "codemirror_mode": {
    "name": "ipython",
    "version": 3
   },
   "file_extension": ".py",
   "mimetype": "text/x-python",
   "name": "python",
   "nbconvert_exporter": "python",
   "pygments_lexer": "ipython3",
   "version": "3.11.4"
  }
 },
 "nbformat": 4,
 "nbformat_minor": 4
}
